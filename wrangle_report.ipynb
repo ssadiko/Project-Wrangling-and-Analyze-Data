{
 "cells": [
  {
   "cell_type": "markdown",
   "metadata": {},
   "source": [
    "## Reporting: wragle_report\n",
    "* Create a **300-600 word written report** called \"wrangle_report.pdf\" or \"wrangle_report.html\" that briefly describes your wrangling efforts. This is to be framed as an internal document."
   ]
  },
  {
   "cell_type": "markdown",
   "metadata": {},
   "source": [
    "### Wrangle Report\n",
    "\n",
    "#### Introduction\n",
    "\n",
    "This report summarizes the data wrangling process performed on the WeRateDogs dataset. The objective was to gather, assess, clean, and analyze the data to extract meaningful insights and create visualizations. The WeRateDogs dataset comprises tweets from the @dog_rates Twitter account, including ratings, dog names, and dog stages, as well as image predictions of dog breeds.\n",
    "\n",
    "#### Data Gathering\n",
    "\n",
    "The data was gathered from three primary sources:\n",
    "1. **WeRateDogs Twitter Archive**: A CSV file containing tweet data including text, ratings, and timestamps.\n",
    "2. **Image Predictions**: A TSV file with the results of a neural network model predicting dog breeds from images.\n",
    "3. **Tweet JSON Data**: A JSON file containing additional tweet data such as retweet and favorite counts.\n",
    "\n",
    "#### Data Assessment\n",
    "\n",
    "The data was assessed both visually and programmatically to identify quality and tidiness issues. Key issues identified included:\n",
    "1. Missing values in several columns.\n",
    "2. Incorrect datatypes, such as timestamps not being in datetime format.\n",
    "3. Presence of retweets and replies, which were not relevant for analysis.\n",
    "4. Inconsistent ratings and missing expanded URLs.\n",
    "5. Multiple columns for dog stages that needed consolidation.\n",
    "6. Incorrect or inconsistent dog breed predictions.\n",
    "7. Non-dog images included in the dataset.\n",
    "\n",
    "#### Data Cleaning\n",
    "\n",
    "The following steps were taken to clean the data:\n",
    "1. **Handling Missing Values**: Columns with a large number of missing values that were not essential for analysis were dropped.\n",
    "2. **Correcting Datatypes**: Timestamps were converted to datetime objects and tweet IDs were converted to strings.\n",
    "3. **Filtering Retweets and Replies**: Retweets and replies were filtered out to include only original tweets.\n",
    "4. **Correcting Inconsistent Ratings**: Specific erroneous ratings were manually corrected.\n",
    "5. **Combining Dog Stage Columns**: Dog stage columns (`doggo`, `floofer`, `pupper`, `puppo`) were combined into a single column.\n",
    "6. **Cleaning Dog Breed Names**: Dog breed names were cleaned to ensure consistency.\n",
    "7. **Filtering Non-Dog Images**: Predictions were filtered to include only dog images.\n",
    "\n",
    "#### Analysis and Visualization\n",
    "\n",
    "Post-cleaning, the data was analyzed to extract insights and visualizations were created:\n",
    "1. **Most Common Dog Breeds**: The most frequently predicted dog breeds were identified and visualized.\n",
    "2. **Distribution of Ratings**: The distribution of rating numerators was analyzed and visualized.\n",
    "3. **Relationship Between Retweets and Favorites**: The correlation between retweet counts and favorite counts was analyzed and visualized.\n",
    "\n",
    "**Visualizations Created**:\n",
    "1. Histogram showing the distribution of rating numerators.\n",
    "2. Bar plot displaying the top 10 most common dog breeds predicted by the model.\n",
    "3. Scatter plot visualizing the relationship between retweet count and favorite count.\n",
    "\n",
    "#### Conclusion\n",
    "\n",
    "This project highlighted the importance of data wrangling in extracting meaningful insights from social media data. By combining, cleaning, and analyzing multiple datasets, we were able to derive valuable insights and create informative visualizations. These methods and findings can be applied to similar projects to uncover deeper insights from data. The project not only enhanced data analysis and cleaning skills but also storytelling through data.\n"
   ]
  }
 ],
 "metadata": {
  "kernelspec": {
   "display_name": "Python 3",
   "language": "python",
   "name": "python3"
  },
  "language_info": {
   "codemirror_mode": {
    "name": "ipython",
    "version": 3
   },
   "file_extension": ".py",
   "mimetype": "text/x-python",
   "name": "python",
   "nbconvert_exporter": "python",
   "pygments_lexer": "ipython3",
   "version": "3.11.9"
  }
 },
 "nbformat": 4,
 "nbformat_minor": 2
}
