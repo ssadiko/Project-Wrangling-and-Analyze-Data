{
 "cells": [
  {
   "cell_type": "markdown",
   "metadata": {},
   "source": [
    "## Report: act_report\n",
    "* Create a **250-word-minimum written report** called \"act_report.pdf\" or \"act_report.html\" that communicates the insights and displays the visualization(s) produced from your wrangled data. This is to be framed as an external document, like a blog post or magazine article, for example."
   ]
  },
  {
   "cell_type": "markdown",
   "metadata": {},
   "source": [
    "### Act Report\n",
    "\n",
    "In this report, we delve into the fascinating world of WeRateDogs, a popular Twitter account known for its charming dog ratings and witty comments. By wrangling the WeRateDogs dataset, we uncover some delightful insights and present them through engaging visualizations.\n",
    "\n",
    "#### Introduction\n",
    "\n",
    "Welcome to the WeRateDogs data analysis! Our journey began with gathering, assessing, and cleaning data from multiple sources. The primary datasets included the original WeRateDogs Twitter archive, image predictions of dog breeds, and additional tweet data accessed via the Twitter API. Our goal was to uncover trends and patterns in the data, shedding light on what makes WeRateDogs so captivating.\n",
    "\n",
    "#### Insights\n",
    "\n",
    "**Insight #1: Most Common Dog Breeds**\n",
    "\n",
    "One of the most exciting findings from our analysis was discovering the most common dog breeds featured on WeRateDogs. By diving into the image predictions, we found that breeds like Golden Retrievers and Labrador Retrievers are fan favorites. This insight highlights the popularity of these breeds among the WeRateDogs community.\n",
    "\n",
    "**Insight #2: Distribution of Ratings**\n",
    "\n",
    "Ever wondered how generous WeRateDogs is with its ratings? We analyzed the distribution of rating numerators and found that most dogs receive exceptionally high ratings. This pattern reflects the account's generally positive nature and its mission to spread joy and love for our furry friends.\n",
    "\n",
    "**Insight #3: Relationship Between Retweets and Favorites**\n",
    "\n",
    "We also explored the relationship between retweets and favorites. The data revealed a strong positive correlation, indicating that tweets favorited more often tend to be retweeted more frequently. This finding suggests that highly engaging content resonates well with the audience, leading to higher interactions and wider reach.\n",
    "\n",
    "#### Visualizations\n",
    "\n",
    "**Visualization #1: Distribution of Rating Numerators**\n",
    "\n",
    "![Distribution of Rating Numerators](path_to_your_image)\n",
    "\n",
    "Take a look at this histogram displaying the distribution of rating numerators. It’s clear that most dogs receive top-notch ratings, underscoring the positive and generous spirit of WeRateDogs.\n",
    "\n",
    "**Visualization #2: Most Common Dog Breeds**\n",
    "\n",
    "![Top 10 Most Common Dog Breeds](path_to_your_image)\n",
    "\n",
    "This bar plot showcases the top 10 most common dog breeds predicted by the model. Golden Retrievers and Labrador Retrievers shine at the top, highlighting their popularity among the rated dogs.\n",
    "\n",
    "**Visualization #3: Scatter Plot of Retweet Count vs. Favorite Count**\n",
    "\n",
    "![Retweet Count vs. Favorite Count](path_to_your_image)\n",
    "\n",
    "Here’s a scatter plot visualizing the relationship between retweet counts and favorite counts. The strong positive correlation emphasizes that tweets with more favorites are also likely to be retweeted frequently, illustrating the engaging nature of popular tweets.\n",
    "\n",
    "#### Conclusion\n",
    "\n",
    "The WeRateDogs project showcased the power of data wrangling in extracting meaningful insights from social media data. By combining, cleaning, and analyzing multiple datasets, I unveiled valuable trends and patterns. These insights and visualizations offer a clearer understanding of the engagement dynamics and popular content on the WeRateDogs Twitter account. The findings not only enhance my data analysis and storytelling skills but also provide practical applications for similar social media analysis projects.\n",
    "\n",
    "Thank you for joining me on this data adventure with WeRateDogs! I hope you enjoyed uncovering these insights as much as I did.\n",
    "\n",
    "For more about the language and love surrounding internet dogs, check out this [NPR article](https://www.npr.org/sections/alltechconsidered/2017/04/23/524514526/dogs-are-doggos-an-internet-language-built-around-love-for-the-puppers).\n",
    "\n",
    "Additionally, read about the founder of WeRateDogs and his journey in this [Salon article](https://www.salon.com/2017/10/01/the-founder-of-weratedogs-on-being-a-professional-dog-rater/).\n",
    "\n",
    "---\n",
    "\n",
    "\n"
   ]
  }
 ],
 "metadata": {
  "kernelspec": {
   "display_name": "Python 3",
   "language": "python",
   "name": "python3"
  },
  "language_info": {
   "codemirror_mode": {
    "name": "ipython",
    "version": 3
   },
   "file_extension": ".py",
   "mimetype": "text/x-python",
   "name": "python",
   "nbconvert_exporter": "python",
   "pygments_lexer": "ipython3",
   "version": "3.11.9"
  }
 },
 "nbformat": 4,
 "nbformat_minor": 2
}
